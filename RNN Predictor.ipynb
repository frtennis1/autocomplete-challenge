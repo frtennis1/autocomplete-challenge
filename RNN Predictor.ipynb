{
 "cells": [
  {
   "cell_type": "code",
   "execution_count": 1,
   "metadata": {},
   "outputs": [],
   "source": [
    "import string\n",
    "import heapq\n",
    "\n",
    "from IPython.display import clear_output"
   ]
  },
  {
   "cell_type": "code",
   "execution_count": 2,
   "metadata": {},
   "outputs": [],
   "source": [
    "%run rnn/generate.py"
   ]
  },
  {
   "cell_type": "code",
   "execution_count": 3,
   "metadata": {},
   "outputs": [],
   "source": [
    "decoder = torch.load('rnn/rnn_model.pt')"
   ]
  },
  {
   "cell_type": "code",
   "execution_count": 4,
   "metadata": {},
   "outputs": [
    {
     "data": {
      "text/plain": [
       "CharRNN (\n",
       "  (encoder): Embedding(100, 100)\n",
       "  (rnn): GRU(100, 100, num_layers=2)\n",
       "  (decoder): Linear (100 -> 100)\n",
       ")"
      ]
     },
     "execution_count": 4,
     "metadata": {},
     "output_type": "execute_result"
    }
   ],
   "source": [
    "decoder"
   ]
  },
  {
   "cell_type": "code",
   "execution_count": 15,
   "metadata": {},
   "outputs": [
    {
     "data": {
      "text/plain": [
       "\"christmas walk movies is trying. days to production on this movie was rankes it is the set in the views and director is seen the stume and nature which is a lead this is those off the movie easy with comedy's w\""
      ]
     },
     "execution_count": 15,
     "metadata": {},
     "output_type": "execute_result"
    }
   ],
   "source": [
    "generate(decoder, prime_str='christmas ', predict_len=200)"
   ]
  },
  {
   "cell_type": "code",
   "execution_count": 6,
   "metadata": {},
   "outputs": [
    {
     "name": "stdout",
     "output_type": "stream",
     "text": [
      "CPU times: user 48 ms, sys: 1.98 ms, total: 50 ms\n",
      "Wall time: 39.7 ms\n"
     ]
    }
   ],
   "source": [
    "%time srtd, indices = torch.topk(distribution(decoder, prime_str='however we need a'), 3)"
   ]
  },
  {
   "cell_type": "code",
   "execution_count": 88,
   "metadata": {},
   "outputs": [
    {
     "data": {
      "text/plain": [
       "(<matplotlib.lines.Line2D at 0x1218086d8>,)"
      ]
     },
     "execution_count": 88,
     "metadata": {},
     "output_type": "execute_result"
    },
    {
     "data": {
      "image/png": "[encoded data removed]",
      "text/plain": [
       "<matplotlib.figure.Figure at 0x120003e48>"
      ]
     },
     "metadata": {
      "image/png": {
       "height": 293,
       "width": 423
      }
     },
     "output_type": "display_data"
    }
   ],
   "source": [
    "n = 10\n",
    "s = \"the movie wa\"\n",
    "\n",
    "srtd, indices = torch.topk(distribution(decoder, prime_str=s), 10)\n",
    "plt.bar(range(n), srtd)\n",
    "\n",
    "plt.xticks(range(n), ['\"' + string.printable[indices[i]] + '\"' for i in range(n)]);\n",
    "plt.yticks(np.arange(0,1.1,.2))\n",
    "plt.ylim((0,1.1))\n",
    "plt.ylabel('Probability')\n",
    "\n",
    "ft_ax(title='RNN Autocomplete Predictions', \n",
    "      subtitle='Distribution for character following \"%s\"' % s, \n",
    "      add_box=True)"
   ]
  },
  {
   "cell_type": "code",
   "execution_count": 10,
   "metadata": {},
   "outputs": [],
   "source": [
    "s = \"start revie\""
   ]
  },
  {
   "cell_type": "code",
   "execution_count": 11,
   "metadata": {},
   "outputs": [
    {
     "name": "stdout",
     "output_type": "stream",
     "text": [
      "CPU times: user 28.8 ms, sys: 1.68 ms, total: 30.5 ms\n",
      "Wall time: 25.7 ms\n"
     ]
    }
   ],
   "source": [
    "%time srtd, indices = torch.topk(distribution(decoder, prime_str=s), 3)"
   ]
  },
  {
   "cell_type": "code",
   "execution_count": 13,
   "metadata": {},
   "outputs": [],
   "source": [
    "f = open('case_data/reviews_8.txt', 'r')"
   ]
  },
  {
   "cell_type": "code",
   "execution_count": 73,
   "metadata": {},
   "outputs": [],
   "source": [
    "l = f.readline().lower()"
   ]
  },
  {
   "cell_type": "code",
   "execution_count": 86,
   "metadata": {},
   "outputs": [
    {
     "name": "stdout",
     "output_type": "stream",
     "text": [
      "1194\n",
      "CPU times: user 2min 6s, sys: 2.65 s, total: 2min 9s\n",
      "Wall time: 1min 14s\n"
     ]
    }
   ],
   "source": [
    "%%time\n",
    "%run rnn/generate.py\n",
    "i = 1\n",
    "counter = 0\n",
    "eliminated = []\n",
    "preds = []\n",
    "\n",
    "while i < len(l):\n",
    "    counter += 1\n",
    "    \n",
    "    eliminated = [s[len(next_chars):] for s in eliminated + preds\n",
    "                  if s[:len(next_chars)] == next_chars]\n",
    "\n",
    "    \n",
    "    if i == 1:\n",
    "        preds, hidden = predict(l[:i], decoder, output_hidden=True)\n",
    "    else:\n",
    "        preds, hidden = predict(l[:i], \n",
    "                                decoder, \n",
    "                                hidden=hidden, \n",
    "                                hidden_lag=max(len(correct_pred), 1), \n",
    "                                eliminated=eliminated,\n",
    "                                output_hidden=True)\n",
    "    correct_pred = ''\n",
    "    \n",
    "    for pred in sorted(preds, key=lambda x:len(x), reverse=True):\n",
    "        if l[i:].startswith(pred):\n",
    "            correct_pred = pred\n",
    "            break\n",
    "    \n",
    "    print (l[max(0,i-15):i] + '[' + correct_pred + ']')\n",
    "    for pred in preds:\n",
    "        print('\"%s\"' % pred)\n",
    "    next_chars = l[i:i+max(len(correct_pred), 1)]\n",
    "    i += max(len(correct_pred), 1)\n",
    "    #time.sleep(.5)\n",
    "    clear_output(wait=True)\n",
    "\n",
    "print(counter)\n"
   ]
  },
  {
   "cell_type": "code",
   "execution_count": 77,
   "metadata": {},
   "outputs": [
    {
     "data": {
      "text/plain": [
       "'paul greengrass, mark this name.... how can the studio approve such a lame picture? this movie is a swindle from beginning to end. why? let me explain.  we had a previously decent, intriguing, sometimes exciting spy action thriller with the bourne identity. what do we hav in this sequence? let me answer:  1) zero suspense. you can miles ahead who is (are) the bad guys. absolutely nothing like the first movie.  2) how can a director, on purpose, decide to shoot a film in such an obnoxious way, using a hand camera all along the way, and ordering his cameramen to shake it, shake it,  and shake it once more, and then goes into the editor\\'s room and orders the editor to cut from frame to frame in less than a second, along the whole movie. it\\'s not only in the action scenes. it\\'s in the whole movie! it\\'s something to wonder when a director shows such contempt for his audience, not showing one single fight sequence in a way that we could follow! and, even doing so, he receives a lot of reviews like \"oh, except for that shaky camera work, the movie is very good...\" how can a movie be good, no matter the quality of its plot, if we can\\'t watch it??  the same way that greengrass showed contempt for me (as a member of the audience paying nine bucks for watching this mess), i show contempt for him, and i do not intend to watch any more movies directed by him. i\\'d also like to know if damon has been bitten by the famous \"affleck\\'s virus\", and began to choose his roles only for the paycheck, because i refuse to believe that he got satisfied with the final editing result of this mess.  the bourne supremacy is a mess of a movei, completely ruined by the director\\'s choices. it\\'s a shame that no one above him put a halt to it. anyway, the movie is making money, so they must be proud of making audiences sick while watching it.\\n'"
      ]
     },
     "execution_count": 77,
     "metadata": {},
     "output_type": "execute_result"
    }
   ],
   "source": [
    "1213"
   ]
  },
  {
   "cell_type": "code",
   "execution_count": 240,
   "metadata": {},
   "outputs": [
    {
     "name": "stdout",
     "output_type": "stream",
     "text": [
      "CPU times: user 1.8 s, sys: 40.5 ms, total: 1.84 s\n",
      "Wall time: 987 ms\n"
     ]
    },
    {
     "data": {
      "text/plain": [
       "['th', 'the ', 'the']"
      ]
     },
     "execution_count": 240,
     "metadata": {},
     "output_type": "execute_result"
    }
   ],
   "source": [
    "%time predict(l[:1000])"
   ]
  },
  {
   "cell_type": "code",
   "execution_count": 287,
   "metadata": {},
   "outputs": [],
   "source": [
    "import time"
   ]
  },
  {
   "cell_type": "code",
   "execution_count": 302,
   "metadata": {},
   "outputs": [
    {
     "name": "stdout",
     "output_type": "stream",
     "text": [
      "CPU times: user 2min 41s, sys: 2.12 s, total: 2min 43s\n",
      "Wall time: 1min 33s\n"
     ]
    }
   ],
   "source": [
    "%%time\n",
    "times = {}\n",
    "for i in range(10,1000,3):\n",
    "    start = time.clock()\n",
    "    predict(l[:i])\n",
    "    times[i] = time.clock() - start"
   ]
  },
  {
   "cell_type": "code",
   "execution_count": 304,
   "metadata": {},
   "outputs": [
    {
     "data": {
      "text/plain": [
       "(<matplotlib.lines.Line2D at 0x11b00ed30>,)"
      ]
     },
     "execution_count": 304,
     "metadata": {},
     "output_type": "execute_result"
    },
    {
     "data": {
      "image/png": "[encoded data removed]",
      "text/plain": [
       "<matplotlib.figure.Figure at 0x112d649e8>"
      ]
     },
     "metadata": {
      "image/png": {
       "height": 291,
       "width": 423
      }
     },
     "output_type": "display_data"
    }
   ],
   "source": [
    "plt.plot(pd.Series(times), 'o')\n",
    "plt.ylabel('Seconds')\n",
    "plt.xlabel('Characters in prefix')\n",
    "ft_ax(title='Time to execute on different lengths', \n",
    "      subtitle='RNN prediction code', \n",
    "      add_box=True)"
   ]
  },
  {
   "cell_type": "code",
   "execution_count": 35,
   "metadata": {},
   "outputs": [],
   "source": [
    "def predict(s, decoder, hidden=None, hidden_lag=1, output_hidden=False):\n",
    "    \"\"\"\n",
    "    If hidden state is given, it should not be for the full string\n",
    "    \"\"\"\n",
    "    probs = [{'': 1},]\n",
    "    scores = [(0,''),(0, ' '), (0,'e')]\n",
    "    heapq.heapify(scores)\n",
    "\n",
    "    is_useful = True\n",
    "    while len(probs) <= 2 or is_useful:\n",
    "        new_guesses = []\n",
    "        for guess in probs[-1].keys():\n",
    "            running_str = s + guess\n",
    "            if guess != '':\n",
    "                srtd, indices = torch.topk(distribution(\n",
    "                    decoder, prime_str=guess, hidden=hidden), 3)\n",
    "            else:\n",
    "                if hidden is not None:\n",
    "                    distr, hidden = distribution(decoder,\n",
    "                                                 prime_str=s[-hidden_lag:], \n",
    "                                                 hidden=hidden,\n",
    "                                                 output_hidden=True)\n",
    "                else:\n",
    "                    distr, hidden = distribution(decoder, s, output_hidden=True)\n",
    "                srtd, indices = torch.topk(distr, 3)\n",
    "\n",
    "            for val, i in zip(srtd, indices):\n",
    "                if len(new_guesses) == 3:\n",
    "                    heapq.heappushpop(new_guesses,\n",
    "                        (probs[-1][guess] * val, guess + string.printable[i]))\n",
    "                else:\n",
    "                    heapq.heappush(new_guesses,\n",
    "                        (probs[-1][guess] * val, guess + string.printable[i]))\n",
    "        probs.append({})\n",
    "        is_useful = False\n",
    "        for val, guess in new_guesses:\n",
    "            probs[-1][guess] = val\n",
    "            if val*(len(guess)-1) > scores[0][0]:\n",
    "                heapq.heappushpop(scores, (val*(len(guess)-1), guess))\n",
    "                is_useful = True\n",
    "    \n",
    "    if not output_hidden:\n",
    "        return [x[1] for x in scores]\n",
    "    else:\n",
    "        return [x[1] for x in scores], hidden\n"
   ]
  },
  {
   "cell_type": "code",
   "execution_count": 51,
   "metadata": {},
   "outputs": [],
   "source": [
    "blacklist = set(['a', 'b', 'c'])"
   ]
  },
  {
   "cell_type": "code",
   "execution_count": 49,
   "metadata": {},
   "outputs": [
    {
     "data": {
      "text/plain": [
       "'0123456789abcdefghijklmnopqrstuvwxyzABCDEFGHIJKLMNOPQRSTUVWXYZ!\"#$%&\\'()*+,-./:;<=>?@[\\\\]^_`{|}~ \\t\\n\\r\\x0b\\x0c'"
      ]
     },
     "execution_count": 49,
     "metadata": {},
     "output_type": "execute_result"
    }
   ],
   "source": [
    "string.printable"
   ]
  },
  {
   "cell_type": "code",
   "execution_count": 55,
   "metadata": {},
   "outputs": [],
   "source": [
    "black = [1, 3]"
   ]
  },
  {
   "cell_type": "code",
   "execution_count": 53,
   "metadata": {},
   "outputs": [],
   "source": [
    "testx = torch.zeros(10)"
   ]
  },
  {
   "cell_type": "code",
   "execution_count": 59,
   "metadata": {},
   "outputs": [],
   "source": [
    "testx[torch.LongTensor(black)] = 1"
   ]
  },
  {
   "cell_type": "code",
   "execution_count": 60,
   "metadata": {},
   "outputs": [
    {
     "data": {
      "text/plain": [
       "\n",
       " 0\n",
       " 1\n",
       " 0\n",
       " 1\n",
       " 0\n",
       " 0\n",
       " 0\n",
       " 0\n",
       " 0\n",
       " 0\n",
       "[torch.FloatTensor of size 10]"
      ]
     },
     "execution_count": 60,
     "metadata": {},
     "output_type": "execute_result"
    }
   ],
   "source": [
    "testx"
   ]
  },
  {
   "cell_type": "code",
   "execution_count": 70,
   "metadata": {},
   "outputs": [
    {
     "data": {
      "text/plain": [
       "torch.FloatTensor"
      ]
     },
     "execution_count": 70,
     "metadata": {},
     "output_type": "execute_result"
    }
   ],
   "source": [
    "type(testx)"
   ]
  },
  {
   "cell_type": "code",
   "execution_count": null,
   "metadata": {},
   "outputs": [],
   "source": []
  }
 ],
 "metadata": {
  "kernelspec": {
   "display_name": "Python 3",
   "language": "python",
   "name": "python3"
  },
  "language_info": {
   "codemirror_mode": {
    "name": "ipython",
    "version": 3
   },
   "file_extension": ".py",
   "mimetype": "text/x-python",
   "name": "python",
   "nbconvert_exporter": "python",
   "pygments_lexer": "ipython3",
   "version": "3.6.1"
  }
 },
 "nbformat": 4,
 "nbformat_minor": 2
}
